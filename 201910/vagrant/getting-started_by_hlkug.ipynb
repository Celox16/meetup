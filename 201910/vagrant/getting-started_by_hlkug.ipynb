{
 "cells": [
  {
   "cell_type": "markdown",
   "metadata": {},
   "source": [
    "## 1. 패키지/모듈 임포트"
   ]
  },
  {
   "cell_type": "code",
   "execution_count": null,
   "metadata": {},
   "outputs": [],
   "source": [
    "import asyncio\n",
    "import time\n",
    "from indy import anoncreds, crypto, did, ledger, pool, wallet\n",
    "\n",
    "import json\n",
    "from typing import Optional"
   ]
  },
  {
   "cell_type": "markdown",
   "metadata": {},
   "source": [
    "## 2. 함수 선언"
   ]
  },
  {
   "cell_type": "code",
   "execution_count": null,
   "metadata": {},
   "outputs": [],
   "source": [
    "async def onboarding(_from, to):\n",
    "    print(\"\\\"{}\\\" -> Create and store in Wallet \\\"{} {}\\\" DID\".format(_from['name'], _from['name'], to['name']))\n",
    "    (from_to_did, from_to_key) = await did.create_and_store_my_did(_from['wallet'], \"{}\")\n",
    "\n",
    "    print(\"\\\"{}\\\" -> Send Nym to Ledger for \\\"{} {}\\\" DID\".format(_from['name'], _from['name'], to['name']))\n",
    "    await send_nym(_from['pool'], _from['wallet'], _from['did'], from_to_did, from_to_key, None)\n",
    "\n",
    "    print(\"\\\"{}\\\" -> Send connection request to {} with \\\"{} {}\\\" DID and nonce\"\n",
    "                .format(_from['name'], to['name'], _from['name'], to['name']))\n",
    "    connection_request = {\n",
    "        'did': from_to_did,\n",
    "        'nonce': 123456789\n",
    "    }\n",
    "\n",
    "    if 'wallet' not in to:\n",
    "        print(\"\\\"{}\\\" -> Create wallet\".format(to['name']))\n",
    "        try:\n",
    "            await wallet.create_wallet(to['wallet_config'], to['wallet_credentials'])\n",
    "        except IndyError as ex:\n",
    "            if ex.error_code == ErrorCode.PoolLedgerConfigAlreadyExistsError:\n",
    "                pass\n",
    "        to['wallet'] = await wallet.open_wallet(to['wallet_config'], to['wallet_credentials'])\n",
    "\n",
    "    print(\"\\\"{}\\\" -> Create and store in Wallet \\\"{} {}\\\" DID\".format(to['name'], to['name'], _from['name']))\n",
    "    (to_from_did, to_from_key) = await did.create_and_store_my_did(to['wallet'], \"{}\")\n",
    "\n",
    "    print(\"\\\"{}\\\" -> Get key for did from \\\"{}\\\" connection request\".format(to['name'], _from['name']))\n",
    "    from_to_verkey = await did.key_for_did(_from['pool'], to['wallet'], connection_request['did'])\n",
    "\n",
    "    print(\"\\\"{}\\\" -> Anoncrypt connection response for \\\"{}\\\" with \\\"{} {}\\\" DID, verkey and nonce\"\n",
    "                .format(to['name'], _from['name'], to['name'], _from['name']))\n",
    "    to['connection_response'] = json.dumps({\n",
    "        'did': to_from_did,\n",
    "        'verkey': to_from_key,\n",
    "        'nonce': connection_request['nonce']\n",
    "    })\n",
    "    to['anoncrypted_connection_response'] = \\\n",
    "        await crypto.anon_crypt(from_to_verkey, to['connection_response'].encode('utf-8'))\n",
    "\n",
    "    print(\"\\\"{}\\\" -> Send anoncrypted connection response to \\\"{}\\\"\".format(to['name'], _from['name']))\n",
    "    _from['anoncrypted_connection_response'] = to['anoncrypted_connection_response']\n",
    "\n",
    "    print(\"\\\"{}\\\" -> Anondecrypt connection response from \\\"{}\\\"\".format(_from['name'], to['name']))\n",
    "    _from['connection_response'] = \\\n",
    "        json.loads((await crypto.anon_decrypt(_from['wallet'], from_to_key,\n",
    "                                              _from['anoncrypted_connection_response'])).decode(\"utf-8\"))\n",
    "\n",
    "    print(\"\\\"{}\\\" -> Authenticates \\\"{}\\\" by comparision of Nonce\".format(_from['name'], to['name']))\n",
    "    assert connection_request['nonce'] == _from['connection_response']['nonce']\n",
    "\n",
    "    print(\"\\\"{}\\\" -> Send Nym to Ledger for \\\"{} {}\\\" DID\".format(_from['name'], to['name'], _from['name']))\n",
    "    await send_nym(_from['pool'], _from['wallet'], _from['did'], to_from_did, to_from_key, None)\n",
    "\n",
    "    return from_to_did, from_to_key, to_from_did, to_from_key, _from['connection_response']\n",
    "\n",
    "\n",
    "async def get_verinym(_from, from_to_did, from_to_key, to, to_from_did, to_from_key):\n",
    "    print(\"\\\"{}\\\" -> Create and store in Wallet \\\"{}\\\" new DID\".format(to['name'], to['name']))\n",
    "    (to_did, to_key) = await did.create_and_store_my_did(to['wallet'], \"{}\")\n",
    "\n",
    "    print(\"\\\"{}\\\" -> Authcrypt \\\"{} DID info\\\" for \\\"{}\\\"\".format(to['name'], to['name'], _from['name']))\n",
    "    to['did_info'] = json.dumps({\n",
    "        'did': to_did,\n",
    "        'verkey': to_key\n",
    "    })\n",
    "    to['authcrypted_did_info'] = \\\n",
    "        await crypto.auth_crypt(to['wallet'], to_from_key, from_to_key, to['did_info'].encode('utf-8'))\n",
    "\n",
    "    print(\"\\\"{}\\\" -> Send authcrypted \\\"{} DID info\\\" to {}\".format(to['name'], to['name'], _from['name']))\n",
    "\n",
    "    print(\"\\\"{}\\\" -> Authdecrypted \\\"{} DID info\\\" from {}\".format(_from['name'], to['name'], to['name']))\n",
    "    sender_verkey, authdecrypted_did_info_json, authdecrypted_did_info = \\\n",
    "        await auth_decrypt(_from['wallet'], from_to_key, to['authcrypted_did_info'])\n",
    "\n",
    "    print(\"\\\"{}\\\" -> Authenticate {} by comparision of Verkeys\".format(_from['name'], to['name'], ))\n",
    "    assert sender_verkey == await did.key_for_did(_from['pool'], _from['wallet'], to_from_did)\n",
    "\n",
    "    print(\"\\\"{}\\\" -> Send Nym to Ledger for \\\"{} DID\\\" with {} Role\"\n",
    "                .format(_from['name'], to['name'], to['role']))\n",
    "    await send_nym(_from['pool'], _from['wallet'], _from['did'], authdecrypted_did_info['did'],\n",
    "                   authdecrypted_did_info['verkey'], to['role'])\n",
    "\n",
    "    return to_did\n",
    "\n",
    "\n",
    "async def send_nym(pool_handle, wallet_handle, _did, new_did, new_key, role):\n",
    "    nym_request = await ledger.build_nym_request(_did, new_did, new_key, None, role)\n",
    "    await ledger.sign_and_submit_request(pool_handle, wallet_handle, _did, nym_request)\n",
    "\n",
    "\n",
    "async def send_schema(pool_handle, wallet_handle, _did, schema):\n",
    "    schema_request = await ledger.build_schema_request(_did, schema)\n",
    "    await ledger.sign_and_submit_request(pool_handle, wallet_handle, _did, schema_request)\n",
    "\n",
    "\n",
    "async def send_cred_def(pool_handle, wallet_handle, _did, cred_def_json):\n",
    "    cred_def_request = await ledger.build_cred_def_request(_did, cred_def_json)\n",
    "    await ledger.sign_and_submit_request(pool_handle, wallet_handle, _did, cred_def_request)\n",
    "\n",
    "\n",
    "async def get_schema(pool_handle, _did, schema_id):\n",
    "    get_schema_request = await ledger.build_get_schema_request(_did, schema_id)\n",
    "    get_schema_response = await ledger.submit_request(pool_handle, get_schema_request)\n",
    "    return await ledger.parse_get_schema_response(get_schema_response)\n",
    "\n",
    "\n",
    "async def get_cred_def(pool_handle, _did, cred_def_id):\n",
    "    get_cred_def_request = await ledger.build_get_cred_def_request(_did, cred_def_id)\n",
    "    get_cred_def_response = await ledger.submit_request(pool_handle, get_cred_def_request)\n",
    "    return await ledger.parse_get_cred_def_response(get_cred_def_response)\n",
    "\n",
    "\n",
    "async def get_credential_for_referent(search_handle, referent):\n",
    "    credentials = json.loads(\n",
    "        await anoncreds.prover_fetch_credentials_for_proof_req(search_handle, referent, 10))\n",
    "    return credentials[0]['cred_info']\n",
    "\n",
    "\n",
    "async def prover_get_entities_from_ledger(pool_handle, _did, identifiers, actor):\n",
    "    schemas = {}\n",
    "    cred_defs = {}\n",
    "    rev_states = {}\n",
    "    for item in identifiers.values():\n",
    "        print(\"\\\"{}\\\" -> Get Schema from Ledger\".format(actor))\n",
    "        (received_schema_id, received_schema) = await get_schema(pool_handle, _did, item['schema_id'])\n",
    "        schemas[received_schema_id] = json.loads(received_schema)\n",
    "\n",
    "        print(\"\\\"{}\\\" -> Get Credential Definition from Ledger\".format(actor))\n",
    "        (received_cred_def_id, received_cred_def) = await get_cred_def(pool_handle, _did, item['cred_def_id'])\n",
    "        cred_defs[received_cred_def_id] = json.loads(received_cred_def)\n",
    "\n",
    "        if 'rev_reg_seq_no' in item:\n",
    "            pass  # TODO Create Revocation States\n",
    "\n",
    "    return json.dumps(schemas), json.dumps(cred_defs), json.dumps(rev_states)\n",
    "\n",
    "\n",
    "async def verifier_get_entities_from_ledger(pool_handle, _did, identifiers, actor):\n",
    "    schemas = {}\n",
    "    cred_defs = {}\n",
    "    rev_reg_defs = {}\n",
    "    rev_regs = {}\n",
    "    for item in identifiers:\n",
    "        print(\"\\\"{}\\\" -> Get Schema from Ledger\".format(actor))\n",
    "        (received_schema_id, received_schema) = await get_schema(pool_handle, _did, item['schema_id'])\n",
    "        schemas[received_schema_id] = json.loads(received_schema)\n",
    "\n",
    "        print(\"\\\"{}\\\" -> Get Credential Definition from Ledger\".format(actor))\n",
    "        (received_cred_def_id, received_cred_def) = await get_cred_def(pool_handle, _did, item['cred_def_id'])\n",
    "        cred_defs[received_cred_def_id] = json.loads(received_cred_def)\n",
    "\n",
    "        if 'rev_reg_seq_no' in item:\n",
    "            pass  # TODO Get Revocation Definitions and Revocation Registries\n",
    "\n",
    "    return json.dumps(schemas), json.dumps(cred_defs), json.dumps(rev_reg_defs), json.dumps(rev_regs)\n",
    "\n",
    "\n",
    "async def auth_decrypt(wallet_handle, key, message):\n",
    "    from_verkey, decrypted_message_json = await crypto.auth_decrypt(wallet_handle, key, message)\n",
    "    decrypted_message_json = decrypted_message_json.decode(\"utf-8\")\n",
    "    decrypted_message = json.loads(decrypted_message_json)\n",
    "    return from_verkey, decrypted_message_json, decrypted_message\n"
   ]
  },
  {
   "cell_type": "markdown",
   "metadata": {},
   "source": [
    "# 3. 초기화, 시작~"
   ]
  },
  {
   "cell_type": "code",
   "execution_count": null,
   "metadata": {},
   "outputs": [],
   "source": [
    "print(\"Getting started -> started\")\n",
    "\n",
    "# Set protocol version 2 to work with Indy Node 1.4\n",
    "await pool.set_protocol_version(2)\n",
    "\n",
    "pool_ = {\n",
    "    'name': 'pool1',\n",
    "    'config': json.dumps({\"genesis_txn\": '/home/indy/sandbox/pool_transactions_genesis'})\n",
    "}\n",
    "print(\"Open Pool Ledger: {}\".format(pool_['name']))\n",
    "\n",
    "try:\n",
    "    await pool.create_pool_ledger_config(pool_['name'], pool_['config'])\n",
    "except IndyError as ex:\n",
    "    if ex.error_code == ErrorCode.PoolLedgerConfigAlreadyExistsError:\n",
    "        pass\n",
    "\n",
    "pool_['handle'] = await pool.open_pool_ledger(pool_['name'], None)"
   ]
  },
  {
   "cell_type": "markdown",
   "metadata": {},
   "source": [
    "### ※ pool_transactions_genesis\n",
    "<code>\n",
    "{\"reqSignature\":{},\"txn\":{\"data\":{\"data\":{\"alias\":\"Node1\",\"blskey\":\"4N8aUNHSgjQVgkpm8nhNEfDf6txHznoYREg9kirmJrkivgL4oSEimFF6nsQ6M41QvhM2Z33nves5vfSn9n1UwNFJBYtWVnHYMATn76vLuL3zU88KyeAYcHfsih3He6UHcXDxcaecHVz6jhCYz1P2UZn2bDVruL5wXpehgBfBaLKm3Ba\",\"blskey_pop\":\"RahHYiCvoNCtPTrVtP7nMC5eTYrsUA8WjXbdhNc8debh1agE9bGiJxWBXYNFbnJXoXhWFMvyqhqhRoq737YQemH5ik9oL7R4NTTCz2LEZhkgLJzB3QRQqJyBNyv7acbdHrAT8nQ9UkLbaVL9NBpnWXBTw4LEMePaSHEw66RzPNdAX1\",\"client_ip\":\"10.0.0.2\",\"client_port\":9702,\"node_ip\":\"10.0.0.2\",\"node_port\":9701,\"services\":[\"VALIDATOR\"]},\"dest\":\"Gw6pDLhcBcoQesN72qfotTgFa7cbuqZpkX3Xo6pLhPhv\"},\"metadata\":{\"from\":\"Th7MpTaRZVRYnPiabds81Y\"},\"type\":\"0\"},\"txnMetadata\":{\"seqNo\":1,\"txnId\":\"fea82e10e894419fe2bea7d96296a6d46f50f93f9eeda954ec461b2ed2950b62\"},\"ver\":\"1\"}\n",
    "{\"reqSignature\":{},\"txn\":{\"data\":{\"data\":{\"alias\":\"Node2\",\"blskey\":\"37rAPpXVoxzKhz7d9gkUe52XuXryuLXoM6P6LbWDB7LSbG62Lsb33sfG7zqS8TK1MXwuCHj1FKNzVpsnafmqLG1vXN88rt38mNFs9TENzm4QHdBzsvCuoBnPH7rpYYDo9DZNJePaDvRvqJKByCabubJz3XXKbEeshzpz4Ma5QYpJqjk\",\"blskey_pop\":\"Qr658mWZ2YC8JXGXwMDQTzuZCWF7NK9EwxphGmcBvCh6ybUuLxbG65nsX4JvD4SPNtkJ2w9ug1yLTj6fgmuDg41TgECXjLCij3RMsV8CwewBVgVN67wsA45DFWvqvLtu4rjNnE9JbdFTc1Z4WCPA3Xan44K1HoHAq9EVeaRYs8zoF5\",\"client_ip\":\"10.0.0.2\",\"client_port\":9704,\"node_ip\":\"10.0.0.2\",\"node_port\":9703,\"services\":[\"VALIDATOR\"]},\"dest\":\"8ECVSk179mjsjKRLWiQtssMLgp6EPhWXtaYyStWPSGAb\"},\"metadata\":{\"from\":\"EbP4aYNeTHL6q385GuVpRV\"},\"type\":\"0\"},\"txnMetadata\":{\"seqNo\":2,\"txnId\":\"1ac8aece2a18ced660fef8694b61aac3af08ba875ce3026a160acbc3a3af35fc\"},\"ver\":\"1\"}\n",
    "{\"reqSignature\":{},\"txn\":{\"data\":{\"data\":{\"alias\":\"Node3\",\"blskey\":\"3WFpdbg7C5cnLYZwFZevJqhubkFALBfCBBok15GdrKMUhUjGsk3jV6QKj6MZgEubF7oqCafxNdkm7eswgA4sdKTRc82tLGzZBd6vNqU8dupzup6uYUf32KTHTPQbuUM8Yk4QFXjEf2Usu2TJcNkdgpyeUSX42u5LqdDDpNSWUK5deC5\",\"blskey_pop\":\"QwDeb2CkNSx6r8QC8vGQK3GRv7Yndn84TGNijX8YXHPiagXajyfTjoR87rXUu4G4QLk2cF8NNyqWiYMus1623dELWwx57rLCFqGh7N4ZRbGDRP4fnVcaKg1BcUxQ866Ven4gw8y4N56S5HzxXNBZtLYmhGHvDtk6PFkFwCvxYrNYjh\",\"client_ip\":\"10.0.0.2\",\"client_port\":9706,\"node_ip\":\"10.0.0.2\",\"node_port\":9705,\"services\":[\"VALIDATOR\"]},\"dest\":\"DKVxG2fXXTU8yT5N7hGEbXB3dfdAnYv1JczDUHpmDxya\"},\"metadata\":{\"from\":\"4cU41vWW82ArfxJxHkzXPG\"},\"type\":\"0\"},\"txnMetadata\":{\"seqNo\":3,\"txnId\":\"7e9f355dffa78ed24668f0e0e369fd8c224076571c51e2ea8be5f26479edebe4\"},\"ver\":\"1\"}\n",
    "{\"reqSignature\":{},\"txn\":{\"data\":{\"data\":{\"alias\":\"Node4\",\"blskey\":\"2zN3bHM1m4rLz54MJHYSwvqzPchYp8jkHswveCLAEJVcX6Mm1wHQD1SkPYMzUDTZvWvhuE6VNAkK3KxVeEmsanSmvjVkReDeBEMxeDaayjcZjFGPydyey1qxBHmTvAnBKoPydvuTAqx5f7YNNRAdeLmUi99gERUU7TD8KfAa6MpQ9bw\",\"blskey_pop\":\"RPLagxaR5xdimFzwmzYnz4ZhWtYQEj8iR5ZU53T2gitPCyCHQneUn2Huc4oeLd2B2HzkGnjAff4hWTJT6C7qHYB1Mv2wU5iHHGFWkhnTX9WsEAbunJCV2qcaXScKj4tTfvdDKfLiVuU2av6hbsMztirRze7LvYBkRHV3tGwyCptsrP\",\"client_ip\":\"10.0.0.2\",\"client_port\":9708,\"node_ip\":\"10.0.0.2\",\"node_port\":9707,\"services\":[\"VALIDATOR\"]},\"dest\":\"4PS3EDQ3dW1tci1Bp6543CfuuebjFrg36kLAUcskGfaA\"},\"metadata\":{\"from\":\"TWwCRQRZ2ZHMJFn9TzLp7W\"},\"type\":\"0\"},\"txnMetadata\":{\"seqNo\":4,\"txnId\":\"aa5e817d7cc626170eca175822029339a444eb0ee8f0bd20d3b0b76e566fb008\"},\"ver\":\"1\"}\n",
    "</code>"
   ]
  },
  {
   "cell_type": "markdown",
   "metadata": {},
   "source": [
    "# 4. Wallet DID 생성\n",
    "![Alt text](https://miro.medium.com/max/1098/0*-3m1wiCsA7pKqX1z \"Steward creates the actors with Trust Anchor Role\")\n",
    "<center>Steward creates the actors with Trust Anchor Role</center>\n",
    "\n",
    "## 4.1 Steward Wallet, DID 생성 by Steward"
   ]
  },
  {
   "cell_type": "code",
   "execution_count": null,
   "metadata": {},
   "outputs": [],
   "source": [
    "print(\"\\\"Sovrin Steward\\\" -> Create wallet\")\n",
    "steward = {\n",
    "    'name': \"Sovrin Steward\",\n",
    "    'wallet_config': json.dumps({'id': 'sovrin_steward_wallet'}),\n",
    "    'wallet_credentials': json.dumps({'key': 'steward_wallet_key'}),\n",
    "    'pool': pool_['handle'],\n",
    "    'seed': '000000000000000000000000Steward2'\n",
    "}\n",
    "\n",
    "try:\n",
    "    await wallet.create_wallet(steward['wallet_config'], steward['wallet_credentials'])\n",
    "except IndyError as ex:\n",
    "    if ex.error_code == ErrorCode.WalletAlreadyExistsError:\n",
    "        pass\n",
    "\n",
    "steward['wallet'] = await wallet.open_wallet(steward['wallet_config'], steward['wallet_credentials'])\n",
    "\n",
    "print(\"\\\"Sovrin Steward\\\" -> Create and store in Wallet DID from seed\")\n",
    "steward['did_info'] = json.dumps({'seed': steward['seed']})\n",
    "steward['did'], steward['key'] = await did.create_and_store_my_did(steward['wallet'], steward['did_info'])"
   ]
  },
  {
   "cell_type": "code",
   "execution_count": null,
   "metadata": {},
   "outputs": [],
   "source": [
    "async def create_wallet(to):\n",
    "    print(\"\\\"{}\\\" -> Create wallet\".format(to['name']))\n",
    "    try:\n",
    "        await wallet.create_wallet(to['wallet_config'], to['wallet_credentials'])\n",
    "    except IndyError as ex:\n",
    "        if ex.error_code == ErrorCode.PoolLedgerConfigAlreadyExistsError:\n",
    "            pass\n",
    "    to['wallet'] = await wallet.open_wallet(to['wallet_config'], to['wallet_credentials'])\n",
    "\n",
    "async def create_did(to):\n",
    "    print(\"\\\"{}\\\" -> Create and store in Wallet \\\"{}\\\" new DID\".format(to['name'], to['name']))\n",
    "    (to_did, to_key) = await did.create_and_store_my_did(to['wallet'], \"{}\")\n",
    "\n",
    "    to['did_info'] = json.dumps({\n",
    "        'did': to_did,\n",
    "        'verkey': to_key\n",
    "    })\n",
    "    \n",
    "    return json.loads(to['did_info'])\n",
    "\n",
    "async def get_verinym2(_from, to_name, to_role, to_did, to_key):\n",
    "    print(\"\\\"{}\\\" -> Send Nym to Ledger for \\\"{} DID\\\" with {} Role\"\n",
    "                .format(_from['name'], to_name, to_role))\n",
    "    await send_nym(_from['pool'], _from['wallet'], _from['did'], to_did,\n",
    "                   to_key, to_role)\n",
    "    \n",
    "    return to_did"
   ]
  },
  {
   "cell_type": "markdown",
   "metadata": {},
   "source": [
    "## 4.2 Government Wallet, DID 생성 by Goverment"
   ]
  },
  {
   "cell_type": "code",
   "execution_count": null,
   "metadata": {},
   "outputs": [],
   "source": [
    "government = {\n",
    "    'name': 'Government',\n",
    "    'wallet_config': json.dumps({'id': 'government_wallet'}),\n",
    "    'wallet_credentials': json.dumps({'key': 'government_wallet_key'}),\n",
    "    'pool': pool_['handle'],\n",
    "    'role': 'TRUST_ANCHOR'\n",
    "}\n",
    "\n",
    "# 지갑 생성\n",
    "await create_wallet(government)\n",
    "\n",
    "# DID 생성\n",
    "government_did_info = await create_did(government)\n",
    "print(government_did_info)"
   ]
  },
  {
   "cell_type": "markdown",
   "metadata": {},
   "source": [
    "## 4.3 Government NYM(Identity Record) Ledger 저장 by Steward"
   ]
  },
  {
   "cell_type": "code",
   "execution_count": null,
   "metadata": {
    "scrolled": true
   },
   "outputs": [],
   "source": [
    "# Submitter, Name, Role(Trust Anchor), DID, Verkey\n",
    "government['did'] = await get_verinym2(steward, government['name'], government['role'], government_did_info['did'], government_did_info['verkey'])"
   ]
  },
  {
   "cell_type": "markdown",
   "metadata": {},
   "source": [
    "## 4.4 Faber College Wallet, DID 생성 by Faber College"
   ]
  },
  {
   "cell_type": "code",
   "execution_count": null,
   "metadata": {
    "scrolled": true
   },
   "outputs": [],
   "source": [
    "faber = {\n",
    "        'name': 'Faber',\n",
    "        'wallet_config': json.dumps({'id': 'faber_wallet'}),\n",
    "        'wallet_credentials': json.dumps({'key': 'faber_wallet_key'}),\n",
    "        'pool': pool_['handle'],\n",
    "        'role': 'TRUST_ANCHOR'\n",
    "}\n",
    "\n",
    "# 지갑 생성\n",
    "await create_wallet(faber)\n",
    "\n",
    "# DID 생성\n",
    "faber_did_info = await create_did(faber)\n",
    "print(faber_did_info)"
   ]
  },
  {
   "cell_type": "markdown",
   "metadata": {},
   "source": [
    "## 4.5 Faber College NYM(Identity Record) Ledger 저장 by Steward"
   ]
  },
  {
   "cell_type": "code",
   "execution_count": null,
   "metadata": {},
   "outputs": [],
   "source": [
    "# Submitter, Name, Role(Trust Anchor), DID, Verkey\n",
    "faber['did'] = await get_verinym2(steward, faber['name'], faber['role'], faber_did_info['did'], faber_did_info['verkey'])"
   ]
  },
  {
   "cell_type": "markdown",
   "metadata": {},
   "source": [
    "## 4.6 Acme Corp Wallet, DID 생성 by Acme Corp"
   ]
  },
  {
   "cell_type": "code",
   "execution_count": null,
   "metadata": {},
   "outputs": [],
   "source": [
    "acme = {\n",
    "        'name': 'Acme',\n",
    "        'wallet_config': json.dumps({'id': 'acme_wallet'}),\n",
    "        'wallet_credentials': json.dumps({'key': 'acme_wallet_key'}),\n",
    "        'pool': pool_['handle'],\n",
    "        'role': 'TRUST_ANCHOR'\n",
    "}\n",
    "\n",
    "# 지갑 생성\n",
    "await create_wallet(acme)\n",
    "\n",
    "# DID 생성\n",
    "acme_did_info = await create_did(acme)\n",
    "print(acme_did_info)"
   ]
  },
  {
   "cell_type": "markdown",
   "metadata": {},
   "source": [
    "## 4.7 Acme Corp NYM(Identity Record) Ledger 저장 by Steward"
   ]
  },
  {
   "cell_type": "code",
   "execution_count": null,
   "metadata": {},
   "outputs": [],
   "source": [
    "# Submitter, Name, Role(Trust Anchor), DID, Verkey\n",
    "acme['did'] = await get_verinym2(steward, acme['name'], acme['role'], acme_did_info['did'], acme_did_info['verkey'])"
   ]
  },
  {
   "cell_type": "markdown",
   "metadata": {},
   "source": [
    "## 4.8 Thrift Bank Wallet, DID 생성 by Thrift Bank"
   ]
  },
  {
   "cell_type": "code",
   "execution_count": null,
   "metadata": {},
   "outputs": [],
   "source": [
    "thrift = {\n",
    "    'name': 'Thrift',\n",
    "    'wallet_config': json.dumps({'id': 'thrift_wallet'}),\n",
    "    'wallet_credentials': json.dumps({'key': 'thrift_wallet_key'}),\n",
    "    'pool': pool_['handle'],\n",
    "    'role': 'TRUST_ANCHOR'\n",
    "}\n",
    "\n",
    "# 지갑 생성\n",
    "await create_wallet(thrift)\n",
    "\n",
    "# DID 생성\n",
    "thrift_did_info = await create_did(thrift)\n",
    "print(thrift_did_info)"
   ]
  },
  {
   "cell_type": "markdown",
   "metadata": {},
   "source": [
    "## 4.9 Thrift Bank NYM(Identity Record) Ledger 저장 by Steward"
   ]
  },
  {
   "cell_type": "code",
   "execution_count": null,
   "metadata": {
    "scrolled": true
   },
   "outputs": [],
   "source": [
    "# Submitter, Name, Role(Trust Anchor), DID, Verkey\n",
    "thrift['did'] = await get_verinym2(steward, thrift['name'], thrift['role'], thrift_did_info['did'], thrift_did_info['verkey'])"
   ]
  },
  {
   "cell_type": "markdown",
   "metadata": {},
   "source": [
    "# 5. Credential Schema 생성 - Transcript, Job Certificate by Government\n",
    "![Alt text](https://miro.medium.com/max/1046/0*2RFOVKXlhGLa_1Gw \"Government creates schemas\")\n",
    "<center>Government creates schemas</center>"
   ]
  },
  {
   "cell_type": "code",
   "execution_count": null,
   "metadata": {},
   "outputs": [],
   "source": [
    "print(\"\\\"Government\\\" -> Create \\\"Transcript\\\" Schema\")\n",
    "# Transcript 스키마\n",
    "transcript = {\n",
    "    'name': 'Transcript',\n",
    "    'version': '1.2',\n",
    "    'attributes': ['first_name', 'last_name', 'degree', 'status', 'year', 'average', 'ssn']\n",
    "}\n",
    "\n",
    "(government['transcript_schema_id'], government['transcript_schema']) = \\\n",
    "    await anoncreds.issuer_create_schema(government['did'], transcript['name'], transcript['version'],\n",
    "                                         json.dumps(transcript['attributes']))\n",
    "transcript_schema_id = government['transcript_schema_id']\n",
    "\n",
    "print(\"\\\"Government\\\" -> Send \\\"Transcript\\\" Schema to Ledger\")\n",
    "await send_schema(government['pool'], government['wallet'], government['did'], government['transcript_schema'])"
   ]
  },
  {
   "cell_type": "code",
   "execution_count": null,
   "metadata": {},
   "outputs": [],
   "source": [
    "print(\"\\\"Government\\\" -> Create \\\"Job-Certificate\\\" Schema\")\n",
    "# Job Certificate 스키마\n",
    "job_certificate = {\n",
    "    'name': 'Job-Certificate',\n",
    "    'version': '0.2',\n",
    "    'attributes': ['first_name', 'last_name', 'salary', 'employee_status', 'experience']\n",
    "}\n",
    "\n",
    "(government['job_certificate_schema_id'], government['job_certificate_schema']) = \\\n",
    "  await anoncreds.issuer_create_schema(government['did'], job_certificate['name'], job_certificate['version'],\n",
    "                                         json.dumps(job_certificate['attributes']))\n",
    "job_certificate_schema_id = government['job_certificate_schema_id']\n",
    "\n",
    "print(\"\\\"Government\\\" -> Send \\\"Job-Certificate\\\" Schema to Ledger\")\n",
    "await send_schema(government['pool'], government['wallet'], government['did'], government['job_certificate_schema'])"
   ]
  },
  {
   "cell_type": "markdown",
   "metadata": {},
   "source": [
    "# 6 Credential Definition 생성 - Faber/Acme Credential Definition\n",
    "![Alt text](https://miro.medium.com/max/1046/0*Gqf9nECRvcdxhY_d \"Faber College and Acme Corp create credential definition based on schemas issued by Government\")\n",
    "<center>Faber College and Acme Corp create credential definition based on schemas issued by Government</center><br>\n",
    "\n",
    "![Alt text](https://miro.medium.com/max/934/0*KI2GjNY0UOlYYORW \"Relation between Schemas and Credential Definitions\")\n",
    "<center>Relation between Schemas and Credential Definitions</center>"
   ]
  },
  {
   "cell_type": "code",
   "execution_count": null,
   "metadata": {},
   "outputs": [],
   "source": [
    "print(\"\\\"Faber\\\" -> Get \\\"Transcript\\\" Schema from Ledger\")\n",
    "(faber['transcript_schema_id'], faber['transcript_schema']) = \\\n",
    "    await get_schema(faber['pool'], faber['did'], transcript_schema_id)\n",
    "\n",
    "print(\"\\\"Faber\\\" -> Create and store in Wallet \\\"Faber Transcript\\\" Credential Definition\")\n",
    "# Transcript - Schema + the necessary info(Issuer, Signature Type, Tag, Revocation)\n",
    "transcript_cred_def = {\n",
    "    'tag': 'TAG1',\n",
    "    'type': 'CL',\n",
    "    'config': {\"support_revocation\": False}\n",
    "}\n",
    "(faber['transcript_cred_def_id'], faber['transcript_cred_def']) = \\\n",
    "    await anoncreds.issuer_create_and_store_credential_def(faber['wallet'], faber['did'],\n",
    "                                                           faber['transcript_schema'], transcript_cred_def['tag'],\n",
    "                                                           transcript_cred_def['type'],\n",
    "                                                           json.dumps(transcript_cred_def['config']))\n",
    "\n",
    "print(\"\\\"Faber\\\" -> Send  \\\"Faber Transcript\\\" Credential Definition to Ledger\")\n",
    "await send_cred_def(faber['pool'], faber['wallet'], faber['did'], faber['transcript_cred_def'])"
   ]
  },
  {
   "cell_type": "code",
   "execution_count": null,
   "metadata": {},
   "outputs": [],
   "source": [
    "print(\"\\\"Acme\\\" -> Get from Ledger \\\"Job-Certificate\\\" Schema\")\n",
    "(acme['job_certificate_schema_id'], acme['job_certificate_schema']) = \\\n",
    "    await get_schema(acme['pool'], acme['did'], job_certificate_schema_id)\n",
    "\n",
    "print(\"\\\"Acme\\\" -> Create and store in Wallet \\\"Acme Job-Certificate\\\" Credential Definition\")\n",
    "# Transcript - Schema + the necessary info(Issuer, Signature Type, Tag, Revocation)\n",
    "job_certificate_cred_def = {\n",
    "    'tag': 'TAG1',\n",
    "    'type': 'CL',\n",
    "    'config': {\"support_revocation\": False}\n",
    "}\n",
    "(acme['job_certificate_cred_def_id'], acme['job_certificate_cred_def']) = \\\n",
    "    await anoncreds.issuer_create_and_store_credential_def(acme['wallet'], acme['did'],\n",
    "                                                           acme['job_certificate_schema'],\n",
    "                                                           job_certificate_cred_def['tag'],\n",
    "                                                           job_certificate_cred_def['type'],\n",
    "                                                           json.dumps(job_certificate_cred_def['config']))\n",
    "\n",
    "print(\"\\\"Acme\\\" -> Send \\\"Acme Job-Certificate\\\" Credential Definition to Ledger\")\n",
    "await send_cred_def(acme['pool'], acme['wallet'], acme['did'], acme['job_certificate_cred_def'])"
   ]
  },
  {
   "cell_type": "markdown",
   "metadata": {},
   "source": [
    "# 7. Faber College로 부터 Transcript 발급(for Alice)\n",
    "![Alt text](https://miro.medium.com/max/1288/0*g7rQdxRt00XkySH6 \"Alice gets credential from Faber College\")\n",
    "<center>Alice gets credential from Faber College</center><br>\n",
    "\n",
    "## 7.1 Alice Wallet DID 생성 by Alice"
   ]
  },
  {
   "cell_type": "code",
   "execution_count": null,
   "metadata": {
    "scrolled": true
   },
   "outputs": [],
   "source": [
    "alice = {\n",
    "        'name': 'Alice',\n",
    "        'wallet_config': json.dumps({'id': 'alice_wallet'}),\n",
    "        'wallet_credentials': json.dumps({'key': 'alice_wallet_key'}),\n",
    "        'pool': pool_['handle'],\n",
    "    }\n",
    "\n",
    "# 지갑 생성\n",
    "await create_wallet(alice)\n",
    "\n",
    "# DID 생성\n",
    "alice_did_info = await create_did(alice)\n",
    "print(alice_did_info)"
   ]
  },
  {
   "cell_type": "markdown",
   "metadata": {},
   "source": [
    "## 7.2 Alice NYM(Identity Record) Ledger 저장 by Faber College"
   ]
  },
  {
   "cell_type": "code",
   "execution_count": null,
   "metadata": {},
   "outputs": [],
   "source": [
    "print(\"\\\"{}\\\" -> Send Nym to Ledger for \\\"{} {}\\\" DID\".format(faber['name'], alice['name'], faber['name']))\n",
    "await send_nym(faber['pool'], faber['wallet'], faber['did'], alice_did_info['did'], alice_did_info['verkey'], None)"
   ]
  },
  {
   "cell_type": "markdown",
   "metadata": {},
   "source": [
    "## 7.3 [Faber -> Alice] Credential Offer 생성 및 전달"
   ]
  },
  {
   "cell_type": "code",
   "execution_count": null,
   "metadata": {},
   "outputs": [],
   "source": [
    "print(\"\\\"Faber\\\" -> Create \\\"Transcript\\\" Credential Offer for Alice\")\n",
    "\n",
    "faber['transcript_cred_offer'] = await anoncreds.issuer_create_credential_offer(faber['wallet'], faber['transcript_cred_def_id'])\n",
    "transcript_cred_offer = json.loads(faber['transcript_cred_offer'])\n",
    "\n",
    "print(\"\\\"Faber\\\" -> Get key for Alice did\")\n",
    "faber['alic_key_for_faber'] = await did.key_for_did(faber['pool'], faber['wallet'], alice_did_info['did'])\n",
    "\n",
    "print(\"\\\"Faber\\\" -> Send \\\"Transcript\\\" Credential Offer to Alice\")\n",
    "alice['transcript_schema_id'] = transcript_cred_offer['schema_id']\n",
    "alice['transcript_cred_def_id'] = transcript_cred_offer['cred_def_id']\n",
    "alice['transcript_cred_offer'] = faber['transcript_cred_offer']\n",
    "print(transcript_cred_offer)"
   ]
  },
  {
   "cell_type": "markdown",
   "metadata": {},
   "source": [
    "## 7.4 [Alice -> Faber] Credential Request 생성 및 전달"
   ]
  },
  {
   "cell_type": "code",
   "execution_count": null,
   "metadata": {},
   "outputs": [],
   "source": [
    "print(\"\\\"Alice\\\" -> Create and store \\\"Alice\\\" Master Secret in Wallet\")\n",
    "alice['master_secret_id'] = await anoncreds.prover_create_master_secret(alice['wallet'], None)\n",
    "\n",
    "print(\"\\\"Alice\\\" -> Get \\\"Faber Transcript\\\" Credential Definition from Ledger\")\n",
    "(alice['faber_transcript_cred_def_id'], alice['faber_transcript_cred_def']) = \\\n",
    "    await get_cred_def(alice['pool'], \n",
    "                       alice_did_info['did'], \n",
    "                       transcript_cred_offer['cred_def_id'])\n",
    "\n",
    "print(\"\\\"Alice\\\" -> Create \\\"Transcript\\\" Credential Request for Faber\")\n",
    "(alice['transcript_cred_request'], alice['transcript_cred_request_metadata']) = \\\n",
    "    await anoncreds.prover_create_credential_req(alice['wallet'], \n",
    "                                                 alice_did_info['did'], \n",
    "                                                 alice['transcript_cred_offer'], \n",
    "                                                 alice['faber_transcript_cred_def'], \n",
    "                                                 alice['master_secret_id'])\n",
    "\n",
    "print(\"\\\"Alice\\\" -> Send \\\"Transcript\\\" Credential Request to Faber\")\n",
    "alice['transcript_cred_values'] = json.dumps({\n",
    "\t\"first_name\": {\"raw\": \"Alice\", \"encoded\": \"1139481716457488690172217916278103335\"},\n",
    "\t\"last_name\": {\"raw\": \"Garcia\", \"encoded\": \"5321642780241790123587902456789123452\"},\n",
    "\t\"degree\": {\"raw\": \"Bachelor of Science, Marketing\", \"encoded\": \"12434523576212321\"},\n",
    "\t\"status\": {\"raw\": \"graduated\", \"encoded\": \"2213454313412354\"},\n",
    "\t\"ssn\": {\"raw\": \"123-45-6789\", \"encoded\": \"3124141231422543541\"},\n",
    "\t\"year\": {\"raw\": \"2015\", \"encoded\": \"2015\"},\n",
    "\t\"average\": {\"raw\": \"5\", \"encoded\": \"5\"}\n",
    "})\n",
    "\n",
    "faber['alice_transcript_cred_values'] = alice['transcript_cred_values']\n",
    "faber['transcript_cred_request'] = alice['transcript_cred_request']"
   ]
  },
  {
   "cell_type": "markdown",
   "metadata": {},
   "source": [
    "## 7.5 [Faber -> Alice] Credential 생성 및 전달"
   ]
  },
  {
   "cell_type": "code",
   "execution_count": null,
   "metadata": {},
   "outputs": [],
   "source": [
    "print(\"\\\"Faber\\\" -> Create \\\"Transcript\\\" Credential for Alice\")\n",
    "\n",
    "faber['transcript_cred'], _, _ = await anoncreds.issuer_create_credential(faber['wallet'], faber['transcript_cred_offer'],\n",
    "                                                                          faber['transcript_cred_request'],\n",
    "                                                                          faber['alice_transcript_cred_values'], None, None)\n",
    "\n",
    "print(\"\\\"Faber\\\" -> Send  \\\"Transcript\\\" Credential to Alice\")\n",
    "alice['transcript_cred'] = faber['transcript_cred']"
   ]
  },
  {
   "cell_type": "markdown",
   "metadata": {},
   "source": [
    "## 7.6 [Alice] Credential(Transcript) 저장(in Wallet)"
   ]
  },
  {
   "cell_type": "code",
   "execution_count": null,
   "metadata": {},
   "outputs": [],
   "source": [
    "print(\"\\\"Alice\\\" -> Store \\\"Transcript\\\" Credential from Faber\")\n",
    "_, alice['transcript_cred_def'] = await get_cred_def(alice['pool'], alice_did_info['did'],\n",
    "                                                     alice['transcript_cred_def_id'])\n",
    "\n",
    "await anoncreds.prover_store_credential(alice['wallet'], None, alice['transcript_cred_request_metadata'],\n",
    "                                        alice['transcript_cred'], alice['transcript_cred_def'], None)"
   ]
  },
  {
   "cell_type": "markdown",
   "metadata": {},
   "source": [
    "# 8. Acme Corp 입사 지원(for Alice)"
   ]
  },
  {
   "cell_type": "markdown",
   "metadata": {},
   "source": [
    "## 8.1 [Acme -> Alice] Job-Application Proof Request 생성 및 전달"
   ]
  },
  {
   "cell_type": "code",
   "execution_count": null,
   "metadata": {},
   "outputs": [],
   "source": [
    "print(\"==============================\")\n",
    "print(\"== Apply for the job with Acme - Transcript proving ==\")\n",
    "print(\"------------------------------\")\n",
    "\n",
    "print(\"\\\"Acme\\\" -> Create \\\"Job-Application\\\" Proof Request\")\n",
    "nonce = await anoncreds.generate_nonce()\n",
    "acme['job_application_proof_request'] = json.dumps({\n",
    "    'nonce': nonce,\n",
    "    'name': 'Job-Application',\n",
    "    'version': '0.1',\n",
    "    'requested_attributes': {\n",
    "        'attr1_referent': {\n",
    "            'name': 'first_name'\n",
    "        },\n",
    "        'attr2_referent': {\n",
    "            'name': 'last_name'\n",
    "        },\n",
    "        'attr3_referent': {\n",
    "            'name': 'degree',\n",
    "            'restrictions': [{'cred_def_id': faber['transcript_cred_def_id']}]\n",
    "        },\n",
    "        'attr4_referent': {\n",
    "            'name': 'status',\n",
    "            'restrictions': [{'cred_def_id': faber['transcript_cred_def_id']}]\n",
    "        },\n",
    "        'attr5_referent': {\n",
    "            'name': 'ssn',\n",
    "            'restrictions': [{'cred_def_id': faber['transcript_cred_def_id']}]\n",
    "        },\n",
    "        'attr6_referent': {\n",
    "            'name': 'phone_number'\n",
    "        }\n",
    "    },\n",
    "    'requested_predicates': {\n",
    "        'predicate1_referent': {\n",
    "            'name': 'average',\n",
    "            'p_type': '>=',\n",
    "            'p_value': 4,\n",
    "            'restrictions': [{'cred_def_id': faber['transcript_cred_def_id']}]\n",
    "        }\n",
    "    }\n",
    "})\n",
    "\n",
    "print(\"\\\"Acme\\\" -> Get key for Alice did\")\n",
    "acme['alice_key_for_acme'] = \\\n",
    "        await did.key_for_did(acme['pool'], acme['wallet'], alice_did_info['did'])\n",
    "\n",
    "print(\"\\\"Acme\\\" -> Send \\\"Job-Application\\\" Proof Request to Alice\")\n",
    "alice['job_application_proof_request'] = acme['job_application_proof_request']"
   ]
  },
  {
   "cell_type": "markdown",
   "metadata": {},
   "source": [
    "## 8.2 [Alice -> Acme] Job-Application Proof  생성 및 전달"
   ]
  },
  {
   "cell_type": "code",
   "execution_count": null,
   "metadata": {
    "scrolled": false
   },
   "outputs": [],
   "source": [
    "print(\"\\\"Alice\\\" -> Get credentials for \\\"Job-Application\\\" Proof Request\")\n",
    "print(\">> alice['job_application_proof_request'] : \")\n",
    "print(alice['job_application_proof_request'])\n",
    "search_for_job_application_proof_request = \\\n",
    "    await anoncreds.prover_search_credentials_for_proof_req(alice['wallet'],\n",
    "                                                            alice['job_application_proof_request'], None)\n",
    "\n",
    "cred_for_attr1 = await get_credential_for_referent(search_for_job_application_proof_request, 'attr1_referent')\n",
    "print(\">> cred_for_attr1 : \")\n",
    "print(cred_for_attr1)\n",
    "cred_for_attr2 = await get_credential_for_referent(search_for_job_application_proof_request, 'attr2_referent')\n",
    "cred_for_attr3 = await get_credential_for_referent(search_for_job_application_proof_request, 'attr3_referent')\n",
    "cred_for_attr4 = await get_credential_for_referent(search_for_job_application_proof_request, 'attr4_referent')\n",
    "cred_for_attr5 = await get_credential_for_referent(search_for_job_application_proof_request, 'attr5_referent')\n",
    "cred_for_predicate1 = \\\n",
    "    await get_credential_for_referent(search_for_job_application_proof_request, 'predicate1_referent')\n",
    "\n",
    "await anoncreds.prover_close_credentials_search_for_proof_req(search_for_job_application_proof_request)\n",
    "\n",
    "alice['creds_for_job_application_proof'] = {cred_for_attr1['referent']: cred_for_attr1,\n",
    "                                            cred_for_attr2['referent']: cred_for_attr2,\n",
    "                                            cred_for_attr3['referent']: cred_for_attr3,\n",
    "                                            cred_for_attr4['referent']: cred_for_attr4,\n",
    "                                            cred_for_attr5['referent']: cred_for_attr5,\n",
    "                                            cred_for_predicate1['referent']: cred_for_predicate1}\n",
    "\n",
    "alice['schemas'], alice['cred_defs'], alice['revoc_states'] = \\\n",
    "    await prover_get_entities_from_ledger(alice['pool'], alice_did_info['did'],\n",
    "                                          alice['creds_for_job_application_proof'], alice['name'])\n",
    "\n",
    "print(\"\\\"Alice\\\" -> Create \\\"Job-Application\\\" Proof\")\n",
    "alice['job_application_requested_creds'] = json.dumps({\n",
    "    'self_attested_attributes': {\n",
    "        'attr1_referent': 'Alice',\n",
    "        'attr2_referent': 'Garcia',\n",
    "        'attr6_referent': '123-45-6789'\n",
    "    },\n",
    "    'requested_attributes': {\n",
    "        'attr3_referent': {'cred_id': cred_for_attr3['referent'], 'revealed': True},\n",
    "        'attr4_referent': {'cred_id': cred_for_attr4['referent'], 'revealed': True},\n",
    "        'attr5_referent': {'cred_id': cred_for_attr5['referent'], 'revealed': True},\n",
    "    },\n",
    "    'requested_predicates': {'predicate1_referent': {'cred_id': cred_for_predicate1['referent']}}\n",
    "})\n",
    "\n",
    "alice['job_application_proof'] = \\\n",
    "    await anoncreds.prover_create_proof(alice['wallet'], alice['job_application_proof_request'],\n",
    "                                        alice['job_application_requested_creds'], alice['master_secret_id'],\n",
    "                                        alice['schemas'], alice['cred_defs'], alice['revoc_states'])\n",
    "\n",
    "print(\"\\\"Alice\\\" -> Send \\\"Job-Application\\\" Proof to Acme\")\n",
    "acme['job_application_proof'] = alice['job_application_proof']"
   ]
  },
  {
   "cell_type": "markdown",
   "metadata": {},
   "source": [
    "## 8.3 [Acme] Job-Application Proof 검증"
   ]
  },
  {
   "cell_type": "code",
   "execution_count": null,
   "metadata": {
    "scrolled": true
   },
   "outputs": [],
   "source": [
    "job_application_proof = json.loads(acme['job_application_proof'])\n",
    "acme['schemas'], acme['cred_defs'], acme['revoc_ref_defs'], acme['revoc_regs'] = \\\n",
    "    await verifier_get_entities_from_ledger(acme['pool'], acme['did'],\n",
    "                                            job_application_proof['identifiers'], acme['name'])\n",
    "\n",
    "print(\"\\\"Acme\\\" -> Verify \\\"Job-Application\\\" Proof from Alice\")\n",
    "assert 'Bachelor of Science, Marketing' == \\\n",
    "       job_application_proof['requested_proof']['revealed_attrs']['attr3_referent']['raw']\n",
    "assert 'graduated' == \\\n",
    "       job_application_proof['requested_proof']['revealed_attrs']['attr4_referent']['raw']\n",
    "assert '123-45-6789' == \\\n",
    "       job_application_proof['requested_proof']['revealed_attrs']['attr5_referent']['raw']\n",
    "\n",
    "assert 'Alice' == job_application_proof['requested_proof']['self_attested_attrs']['attr1_referent']\n",
    "assert 'Garcia' == job_application_proof['requested_proof']['self_attested_attrs']['attr2_referent']\n",
    "assert '123-45-6789' == job_application_proof['requested_proof']['self_attested_attrs']['attr6_referent']\n",
    "\n",
    "assert await anoncreds.verifier_verify_proof(acme['job_application_proof_request'], acme['job_application_proof'],\n",
    "                                             acme['schemas'], acme['cred_defs'], acme['revoc_ref_defs'],\n",
    "                                             acme['revoc_regs'])"
   ]
  },
  {
   "cell_type": "markdown",
   "metadata": {},
   "source": [
    "# 9. 종료"
   ]
  },
  {
   "cell_type": "code",
   "execution_count": null,
   "metadata": {
    "scrolled": true
   },
   "outputs": [],
   "source": [
    "print(\"==============================\")\n",
    "\n",
    "print(\"\\\"Sovrin Steward\\\" -> Close and Delete wallet\")\n",
    "await wallet.close_wallet(steward['wallet'])\n",
    "await wallet.delete_wallet(steward['wallet_config'], steward['wallet_credentials'])\n",
    "\n",
    "print(\"\\\"Government\\\" -> Close and Delete wallet\")\n",
    "await wallet.close_wallet(government['wallet'])\n",
    "await wallet.delete_wallet(government['wallet_config'], government['wallet_credentials'])\n",
    "\n",
    "print(\"\\\"Faber\\\" -> Close and Delete wallet\")\n",
    "await wallet.close_wallet(faber['wallet'])\n",
    "await wallet.delete_wallet(faber['wallet_config'], faber['wallet_credentials'])\n",
    "\n",
    "print(\"\\\"Acme\\\" -> Close and Delete wallet\")\n",
    "await wallet.close_wallet(acme['wallet'])\n",
    "await wallet.delete_wallet(acme['wallet_config'], acme['wallet_credentials'])\n",
    "\n",
    "print(\"\\\"Thrift\\\" -> Close and Delete wallet\")\n",
    "await wallet.close_wallet(thrift['wallet'])\n",
    "await wallet.delete_wallet(thrift['wallet_config'], thrift['wallet_credentials'])\n",
    "\n",
    "print(\"\\\"Alice\\\" -> Close and Delete wallet\")\n",
    "await wallet.close_wallet(alice['wallet'])\n",
    "await wallet.delete_wallet(alice['wallet_config'], alice['wallet_credentials'])\n",
    "\n",
    "print(\"Close and Delete pool\")\n",
    "await pool.close_pool_ledger(pool_['handle'])\n",
    "await pool.delete_pool_ledger_config(pool_['name'])\n",
    "\n",
    "print(\"Getting started -> done\")"
   ]
  },
  {
   "cell_type": "markdown",
   "metadata": {},
   "source": [
    "### ※ 참고 문서 - https://medium.com/@kctheservant/exploring-hyperledger-indy-through-indy-dev-example-10075d2547ae"
   ]
  }
 ],
 "metadata": {
  "kernelspec": {
   "display_name": "Python 3",
   "language": "python",
   "name": "python3"
  },
  "language_info": {
   "codemirror_mode": {
    "name": "ipython",
    "version": 3
   },
   "file_extension": ".py",
   "mimetype": "text/x-python",
   "name": "python",
   "nbconvert_exporter": "python",
   "pygments_lexer": "ipython3",
   "version": "3.5.2"
  }
 },
 "nbformat": 4,
 "nbformat_minor": 2
}
